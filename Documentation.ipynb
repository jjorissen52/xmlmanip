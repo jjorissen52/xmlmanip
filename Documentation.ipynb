{
 "cells": [
  {
   "cell_type": "code",
   "execution_count": 1,
   "metadata": {
    "collapsed": true
   },
   "outputs": [],
   "source": [
    "from xmlmanip import XMLSchema"
   ]
  },
  {
   "cell_type": "code",
   "execution_count": 2,
   "metadata": {
    "collapsed": true
   },
   "outputs": [],
   "source": [
    "string = \"\"\"\n",
    "<breakfast_menu>\n",
    "<food tag=\"waffles\">\n",
    "    <name>Belgian Waffles</name>\n",
    "    <price>$5.95</price>\n",
    "    <description>\n",
    "   Two of our famous Belgian Waffles with plenty of real maple syrup\n",
    "   </description>\n",
    "    <calories>650</calories>\n",
    "</food>\n",
    "<food tag=\"waffles\">\n",
    "    <name >Strawberry Belgian Waffles</name>\n",
    "    <price>$7.95</price>\n",
    "    <description>\n",
    "    Light Belgian waffles covered with strawberries and whipped cream\n",
    "    </description>\n",
    "    <calories>900</calories>\n",
    "</food>\n",
    "<food tag=\"waffles\">\n",
    "    <name>Berry-Berry Belgian Waffles</name>\n",
    "    <price>$8.95</price>\n",
    "    <description>\n",
    "    Belgian waffles covered with assorted fresh berries and whipped cream\n",
    "    </description>\n",
    "    <calories>900</calories>\n",
    "</food>\n",
    "<food tag=\"toast\">\n",
    "    <name>French Toast</name>\n",
    "    <price>$4.50</price>\n",
    "    <description>\n",
    "    Thick slices made from our homemade sourdough bread\n",
    "    </description>\n",
    "    <calories>600</calories>\n",
    "</food>\n",
    "<food tag=\"classic\">\n",
    "    <name>Homestyle Breakfast</name>\n",
    "    <price>$6.95</price>\n",
    "    <description>\n",
    "    Two eggs, bacon or sausage, toast, and our ever-popular hash browns\n",
    "    </description>\n",
    "    <calories>950</calories>\n",
    "</food>\n",
    "</breakfast_menu>\n",
    "\"\"\""
   ]
  },
  {
   "cell_type": "markdown",
   "metadata": {},
   "source": [
    "You can import your XML string to convert it to a dict. (dict conversion handled by https://github.com/martinblech/xmltodict)."
   ]
  },
  {
   "cell_type": "code",
   "execution_count": 3,
   "metadata": {
    "collapsed": true
   },
   "outputs": [],
   "source": [
    "schema = XMLSchema(string)"
   ]
  },
  {
   "cell_type": "code",
   "execution_count": 4,
   "metadata": {},
   "outputs": [
    {
     "name": "stdout",
     "output_type": "stream",
     "text": [
      "{\n",
      "  \"breakfast_menu\": {\n",
      "    \"food\": [\n",
      "      {\n",
      "        \"@tag\": \"waffles\",\n",
      "        \"name\": \"Belgian Waffles\",\n",
      "        \"price\": \"$5.95\",\n",
      "        \"description\": \"Two of our famous Belgian Waffles with plenty of real maple syrup\",\n",
      "        \"calories\": \"650\"\n",
      "      },\n",
      "      {\n",
      "        \"@tag\": \"waffles\",\n",
      "        \"name\": \"Strawberry Belgian Waffles\",\n",
      "        \"price\": \"$7.95\",\n",
      "        \"description\": \"Light Belgian waffles covered with strawberries and whipped cream\",\n",
      "        \"calories\": \"900\"\n",
      "      },\n",
      "      {\n",
      "        \"@tag\": \"waffles\",\n",
      "        \"name\": \"Berry-Berry Belgian Waffles\",\n",
      "        \"price\": \"$8.95\",\n",
      "        \"description\": \"Belgian waffles covered with assorted fresh berries and whipped cream\",\n",
      "        \"calories\": \"900\"\n",
      "      },\n",
      "      {\n",
      "        \"@tag\": \"toast\",\n",
      "        \"name\": \"French Toast\",\n",
      "        \"price\": \"$4.50\",\n",
      "        \"description\": \"Thick slices made from our homemade sourdough bread\",\n",
      "        \"calories\": \"600\"\n",
      "      },\n",
      "      {\n",
      "        \"@tag\": \"classic\",\n",
      "        \"name\": \"Homestyle Breakfast\",\n",
      "        \"price\": \"$6.95\",\n",
      "        \"description\": \"Two eggs, bacon or sausage, toast, and our ever-popular hash browns\",\n",
      "        \"calories\": \"950\"\n",
      "      }\n",
      "    ]\n",
      "  }\n",
      "}\n"
     ]
    }
   ],
   "source": [
    "print(schema)"
   ]
  },
  {
   "cell_type": "markdown",
   "metadata": {},
   "source": [
    "Use .locate() and .retrieve() to find and retrieve your data of interest."
   ]
  },
  {
   "cell_type": "code",
   "execution_count": 5,
   "metadata": {},
   "outputs": [
    {
     "data": {
      "text/plain": [
       "['__breakfast_menu__food__4__name']"
      ]
     },
     "execution_count": 5,
     "metadata": {},
     "output_type": "execute_result"
    }
   ],
   "source": [
    "schema.locate(name=\"Homestyle Breakfast\")"
   ]
  },
  {
   "cell_type": "code",
   "execution_count": 11,
   "metadata": {},
   "outputs": [
    {
     "data": {
      "text/plain": [
       "'Homestyle Breakfast'"
      ]
     },
     "execution_count": 11,
     "metadata": {},
     "output_type": "execute_result"
    }
   ],
   "source": [
    "schema.retrieve('__breakfast_menu__food__4__name')"
   ]
  },
  {
   "cell_type": "code",
   "execution_count": 12,
   "metadata": {},
   "outputs": [
    {
     "data": {
      "text/plain": [
       "SchemaInnerDict([('@tag', 'classic'),\n",
       "                 ('name', 'Homestyle Breakfast'),\n",
       "                 ('price', '$6.95'),\n",
       "                 ('description',\n",
       "                  'Two eggs, bacon or sausage, toast, and our ever-popular hash browns'),\n",
       "                 ('calories', '950')])"
      ]
     },
     "execution_count": 12,
     "metadata": {},
     "output_type": "execute_result"
    }
   ],
   "source": [
    "schema.retrieve('__breakfast_menu__food__4')"
   ]
  },
  {
   "cell_type": "markdown",
   "metadata": {},
   "source": [
    "You have access to all of the standard comparison methods."
   ]
  },
  {
   "cell_type": "code",
   "execution_count": 25,
   "metadata": {},
   "outputs": [
    {
     "data": {
      "text/plain": [
       "['__breakfast_menu__food__0__name',\n",
       " '__breakfast_menu__food__1__name',\n",
       " '__breakfast_menu__food__2__name']"
      ]
     },
     "execution_count": 25,
     "metadata": {},
     "output_type": "execute_result"
    }
   ],
   "source": [
    "paths = schema.locate(name__contains=\"Waffles\")\n",
    "paths"
   ]
  },
  {
   "cell_type": "code",
   "execution_count": 26,
   "metadata": {},
   "outputs": [
    {
     "data": {
      "text/plain": [
       "['Belgian Waffles',\n",
       " 'Strawberry Belgian Waffles',\n",
       " 'Berry-Berry Belgian Waffles']"
      ]
     },
     "execution_count": 26,
     "metadata": {},
     "output_type": "execute_result"
    }
   ],
   "source": [
    "[schema.retrieve(path) for path in paths]"
   ]
  },
  {
   "cell_type": "code",
   "execution_count": 28,
   "metadata": {},
   "outputs": [],
   "source": [
    "paths = schema.locate(calories__lt=\"700\") "
   ]
  },
  {
   "cell_type": "code",
   "execution_count": 29,
   "metadata": {},
   "outputs": [
    {
     "data": {
      "text/plain": [
       "['650', '600']"
      ]
     },
     "execution_count": 29,
     "metadata": {},
     "output_type": "execute_result"
    }
   ],
   "source": [
    "[schema.retrieve(path) for path in paths]"
   ]
  },
  {
   "cell_type": "markdown",
   "metadata": {},
   "source": [
    "##### Warning, all types are compared as strings, which may have undesirable results. A fix for this problem is coming."
   ]
  },
  {
   "cell_type": "code",
   "execution_count": 13,
   "metadata": {},
   "outputs": [
    {
     "data": {
      "text/plain": [
       "True"
      ]
     },
     "execution_count": 13,
     "metadata": {},
     "output_type": "execute_result"
    }
   ],
   "source": [
    "schema.locate(calories__lt=\"700\") == schema.locate(calories__lt=\"70\") "
   ]
  },
  {
   "cell_type": "markdown",
   "metadata": {},
   "source": [
    "Some attributes cannot be accessed via keyword arguements, unfortunately."
   ]
  },
  {
   "cell_type": "code",
   "execution_count": 21,
   "metadata": {},
   "outputs": [
    {
     "ename": "SyntaxError",
     "evalue": "invalid syntax (<ipython-input-21-c070fc7f6462>, line 1)",
     "output_type": "error",
     "traceback": [
      "\u001b[0;36m  File \u001b[0;32m\"<ipython-input-21-c070fc7f6462>\"\u001b[0;36m, line \u001b[0;32m1\u001b[0m\n\u001b[0;31m    schema.retrieve(@tag__ne=\"waffles\")\u001b[0m\n\u001b[0m                    ^\u001b[0m\n\u001b[0;31mSyntaxError\u001b[0m\u001b[0;31m:\u001b[0m invalid syntax\n"
     ]
    }
   ],
   "source": [
    "schema.retrieve(@tag__ne=\"waffles\")"
   ]
  },
  {
   "cell_type": "markdown",
   "metadata": {},
   "source": [
    "You will need to pass the desired attribute and comparison method as strings in this case."
   ]
  },
  {
   "cell_type": "code",
   "execution_count": 22,
   "metadata": {},
   "outputs": [
    {
     "data": {
      "text/plain": [
       "['__breakfast_menu__food__0__@tag',\n",
       " '__breakfast_menu__food__1__@tag',\n",
       " '__breakfast_menu__food__2__@tag']"
      ]
     },
     "execution_count": 22,
     "metadata": {},
     "output_type": "execute_result"
    }
   ],
   "source": [
    "schema.locate('@tag', 'waffles') # default comparison is __eq__"
   ]
  },
  {
   "cell_type": "code",
   "execution_count": 23,
   "metadata": {},
   "outputs": [
    {
     "data": {
      "text/plain": [
       "['__breakfast_menu__food__3__@tag', '__breakfast_menu__food__4__@tag']"
      ]
     },
     "execution_count": 23,
     "metadata": {},
     "output_type": "execute_result"
    }
   ],
   "source": [
    "schema.locate('@tag', 'waffles', comparison='ne')"
   ]
  },
  {
   "cell_type": "markdown",
   "metadata": {
    "collapsed": true
   },
   "source": [
    "That's it so far."
   ]
  }
 ],
 "metadata": {
  "kernelspec": {
   "display_name": "Python 3",
   "language": "python",
   "name": "python3"
  },
  "language_info": {
   "codemirror_mode": {
    "name": "ipython",
    "version": 3
   },
   "file_extension": ".py",
   "mimetype": "text/x-python",
   "name": "python",
   "nbconvert_exporter": "python",
   "pygments_lexer": "ipython3",
   "version": "3.6.1"
  }
 },
 "nbformat": 4,
 "nbformat_minor": 2
}
