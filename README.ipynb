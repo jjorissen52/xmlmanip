{
 "cells": [
  {
   "cell_type": "code",
   "execution_count": 1,
   "metadata": {},
   "outputs": [],
   "source": [
    "from xmlmanip import XMLSchema, SearchableList"
   ]
  },
  {
   "cell_type": "code",
   "execution_count": 2,
   "metadata": {
    "collapsed": true
   },
   "outputs": [],
   "source": [
    "string = \"\"\"\n",
    "<breakfast_menu>\n",
    "<food tag=\"waffles\">\n",
    "    <name>Belgian Waffles</name>\n",
    "    <price>$5.95</price>\n",
    "    <description>\n",
    "   Two of our famous Belgian Waffles with plenty of real maple syrup\n",
    "   </description>\n",
    "    <calories>650</calories>\n",
    "</food>\n",
    "<food tag=\"waffles\">\n",
    "    <name >Strawberry Belgian Waffles</name>\n",
    "    <price>$7.95</price>\n",
    "    <description>\n",
    "    Light Belgian waffles covered with strawberries and whipped cream\n",
    "    </description>\n",
    "    <calories>900</calories>\n",
    "</food>\n",
    "<food tag=\"waffles\">\n",
    "    <name>Berry-Berry Belgian Waffles</name>\n",
    "    <price>$8.95</price>\n",
    "    <description>\n",
    "    Belgian waffles covered with assorted fresh berries and whipped cream\n",
    "    </description>\n",
    "    <calories>900</calories>\n",
    "</food>\n",
    "<food tag=\"toast\">\n",
    "    <name>French Toast</name>\n",
    "    <price>$4.50</price>\n",
    "    <description>\n",
    "    Thick slices made from our homemade sourdough bread\n",
    "    </description>\n",
    "    <calories>600</calories>\n",
    "</food>\n",
    "<food tag=\"classic\">\n",
    "    <name>Homestyle Breakfast</name>\n",
    "    <price>$6.95</price>\n",
    "    <description>\n",
    "    Two eggs, bacon or sausage, toast, and our ever-popular hash browns\n",
    "    </description>\n",
    "    <calories>950</calories>\n",
    "</food>\n",
    "</breakfast_menu>\n",
    "\"\"\""
   ]
  },
  {
   "cell_type": "markdown",
   "metadata": {},
   "source": [
    "You can import your XML string to convert it to a dict. (dict conversion handled by https://github.com/martinblech/xmltodict)."
   ]
  },
  {
   "cell_type": "code",
   "execution_count": 3,
   "metadata": {},
   "outputs": [
    {
     "data": {
      "text/plain": [
       "XMLSchema([('breakfast_menu',\n",
       "            OrderedDict([('food',\n",
       "                          [OrderedDict([('@tag', 'waffles'),\n",
       "                                        ('name', 'Belgian Waffles'),\n",
       "                                        ('price', '$5.95'),\n",
       "                                        ('description',\n",
       "                                         'Two of our famous Belgian Waffles with plenty of real maple syrup'),\n",
       "                                        ('calories', '650')]),\n",
       "                           OrderedDict([('@tag', 'waffles'),\n",
       "                                        ('name', 'Strawberry Belgian Waffles'),\n",
       "                                        ('price', '$7.95'),\n",
       "                                        ('description',\n",
       "                                         'Light Belgian waffles covered with strawberries and whipped cream'),\n",
       "                                        ('calories', '900')]),\n",
       "                           OrderedDict([('@tag', 'waffles'),\n",
       "                                        ('name',\n",
       "                                         'Berry-Berry Belgian Waffles'),\n",
       "                                        ('price', '$8.95'),\n",
       "                                        ('description',\n",
       "                                         'Belgian waffles covered with assorted fresh berries and whipped cream'),\n",
       "                                        ('calories', '900')]),\n",
       "                           OrderedDict([('@tag', 'toast'),\n",
       "                                        ('name', 'French Toast'),\n",
       "                                        ('price', '$4.50'),\n",
       "                                        ('description',\n",
       "                                         'Thick slices made from our homemade sourdough bread'),\n",
       "                                        ('calories', '600')]),\n",
       "                           OrderedDict([('@tag', 'classic'),\n",
       "                                        ('name', 'Homestyle Breakfast'),\n",
       "                                        ('price', '$6.95'),\n",
       "                                        ('description',\n",
       "                                         'Two eggs, bacon or sausage, toast, and our ever-popular hash browns'),\n",
       "                                        ('calories', '950')])])]))])"
      ]
     },
     "execution_count": 3,
     "metadata": {},
     "output_type": "execute_result"
    }
   ],
   "source": [
    "schema = XMLSchema(string)\n",
    "schema"
   ]
  },
  {
   "cell_type": "markdown",
   "metadata": {},
   "source": [
    "Use .search() to search for data of interest."
   ]
  },
  {
   "cell_type": "code",
   "execution_count": 4,
   "metadata": {},
   "outputs": [
    {
     "data": {
      "text/plain": [
       "[SchemaInnerDict([('@tag', 'classic'),\n",
       "                  ('name', 'Homestyle Breakfast'),\n",
       "                  ('price', '$6.95'),\n",
       "                  ('description',\n",
       "                   'Two eggs, bacon or sausage, toast, and our ever-popular hash browns'),\n",
       "                  ('calories', '950')])]"
      ]
     },
     "execution_count": 4,
     "metadata": {},
     "output_type": "execute_result"
    }
   ],
   "source": [
    "schema.search(name=\"Homestyle Breakfast\")"
   ]
  },
  {
   "cell_type": "markdown",
   "metadata": {},
   "source": [
    "The `SearchAbleList` class will also allow you to easily search through lists of dicts."
   ]
  },
  {
   "cell_type": "code",
   "execution_count": 5,
   "metadata": {},
   "outputs": [
    {
     "name": "stdout",
     "output_type": "stream",
     "text": [
      "[{'other_thing': 2, 'thing': 1}]\n",
      "[{'other_thing': 2, 'thing': 1}, {'other_thing': 2, 'thing': 2}]\n"
     ]
    }
   ],
   "source": [
    "example_list = [{\"thing\": 1, \"other_thing\": 2}, {\"thing\": 2, \"other_thing\": 2}]\n",
    "searchable_list = SearchableList(example_list)\n",
    "print(searchable_list.search(thing__ne=2)) # thing != 2\n",
    "print(searchable_list.search(other_thing=2))"
   ]
  },
  {
   "cell_type": "markdown",
   "metadata": {},
   "source": [
    "Use .locate() if you are interested in the \"path\" to your data of interest and .retrieve() to get an object from its \"path.\""
   ]
  },
  {
   "cell_type": "code",
   "execution_count": 6,
   "metadata": {},
   "outputs": [
    {
     "data": {
      "text/plain": [
       "['__breakfast_menu__food__4__name']"
      ]
     },
     "execution_count": 6,
     "metadata": {},
     "output_type": "execute_result"
    }
   ],
   "source": [
    "schema.locate(name=\"Homestyle Breakfast\")"
   ]
  },
  {
   "cell_type": "code",
   "execution_count": 7,
   "metadata": {},
   "outputs": [
    {
     "data": {
      "text/plain": [
       "'Homestyle Breakfast'"
      ]
     },
     "execution_count": 7,
     "metadata": {},
     "output_type": "execute_result"
    }
   ],
   "source": [
    "schema.retrieve('__breakfast_menu__food__4__name')"
   ]
  },
  {
   "cell_type": "code",
   "execution_count": 8,
   "metadata": {},
   "outputs": [
    {
     "data": {
      "text/plain": [
       "SchemaInnerDict([('@tag', 'classic'),\n",
       "                 ('name', 'Homestyle Breakfast'),\n",
       "                 ('price', '$6.95'),\n",
       "                 ('description',\n",
       "                  'Two eggs, bacon or sausage, toast, and our ever-popular hash browns'),\n",
       "                 ('calories', '950')])"
      ]
     },
     "execution_count": 8,
     "metadata": {},
     "output_type": "execute_result"
    }
   ],
   "source": [
    "schema.retrieve('__breakfast_menu__food__4')"
   ]
  },
  {
   "cell_type": "markdown",
   "metadata": {},
   "source": [
    "You have access to all of the standard comparison methods."
   ]
  },
  {
   "cell_type": "code",
   "execution_count": 9,
   "metadata": {},
   "outputs": [
    {
     "data": {
      "text/plain": [
       "['__breakfast_menu__food__0__name',\n",
       " '__breakfast_menu__food__1__name',\n",
       " '__breakfast_menu__food__2__name']"
      ]
     },
     "execution_count": 9,
     "metadata": {},
     "output_type": "execute_result"
    }
   ],
   "source": [
    "paths = schema.locate(name__contains=\"Waffles\")\n",
    "paths"
   ]
  },
  {
   "cell_type": "code",
   "execution_count": 10,
   "metadata": {},
   "outputs": [
    {
     "data": {
      "text/plain": [
       "[SchemaInnerDict([('@tag', 'waffles'),\n",
       "                  ('name', 'Belgian Waffles'),\n",
       "                  ('price', '$5.95'),\n",
       "                  ('description',\n",
       "                   'Two of our famous Belgian Waffles with plenty of real maple syrup'),\n",
       "                  ('calories', '650')]),\n",
       " SchemaInnerDict([('@tag', 'waffles'),\n",
       "                  ('name', 'Berry-Berry Belgian Waffles'),\n",
       "                  ('price', '$8.95'),\n",
       "                  ('description',\n",
       "                   'Belgian waffles covered with assorted fresh berries and whipped cream'),\n",
       "                  ('calories', '900')]),\n",
       " SchemaInnerDict([('@tag', 'waffles'),\n",
       "                  ('name', 'Strawberry Belgian Waffles'),\n",
       "                  ('price', '$7.95'),\n",
       "                  ('description',\n",
       "                   'Light Belgian waffles covered with strawberries and whipped cream'),\n",
       "                  ('calories', '900')])]"
      ]
     },
     "execution_count": 10,
     "metadata": {},
     "output_type": "execute_result"
    }
   ],
   "source": [
    "schema.search(name__contains=\"Waffles\")"
   ]
  },
  {
   "cell_type": "code",
   "execution_count": 11,
   "metadata": {},
   "outputs": [
    {
     "data": {
      "text/plain": [
       "[SchemaInnerDict([('@tag', 'toast'),\n",
       "                  ('name', 'French Toast'),\n",
       "                  ('price', '$4.50'),\n",
       "                  ('description',\n",
       "                   'Thick slices made from our homemade sourdough bread'),\n",
       "                  ('calories', '600')]),\n",
       " SchemaInnerDict([('@tag', 'waffles'),\n",
       "                  ('name', 'Belgian Waffles'),\n",
       "                  ('price', '$5.95'),\n",
       "                  ('description',\n",
       "                   'Two of our famous Belgian Waffles with plenty of real maple syrup'),\n",
       "                  ('calories', '650')])]"
      ]
     },
     "execution_count": 11,
     "metadata": {},
     "output_type": "execute_result"
    }
   ],
   "source": [
    "schema.search(calories__lt=\"700\")"
   ]
  },
  {
   "cell_type": "markdown",
   "metadata": {},
   "source": [
    "##### Warning, all types are compared as strings, which may have undesirable results. "
   ]
  },
  {
   "cell_type": "code",
   "execution_count": 12,
   "metadata": {},
   "outputs": [
    {
     "data": {
      "text/plain": [
       "True"
      ]
     },
     "execution_count": 12,
     "metadata": {},
     "output_type": "execute_result"
    }
   ],
   "source": [
    "schema.search(calories__lt=\"700\") == schema.search(calories__lt=\"70\") "
   ]
  },
  {
   "cell_type": "markdown",
   "metadata": {},
   "source": [
    "Some attributes cannot be accessed via keyword arguements, unfortunately."
   ]
  },
  {
   "cell_type": "code",
   "execution_count": 13,
   "metadata": {},
   "outputs": [
    {
     "ename": "SyntaxError",
     "evalue": "invalid syntax (<ipython-input-13-6d872bfd72f9>, line 1)",
     "output_type": "error",
     "traceback": [
      "\u001b[0;36m  File \u001b[0;32m\"<ipython-input-13-6d872bfd72f9>\"\u001b[0;36m, line \u001b[0;32m1\u001b[0m\n\u001b[0;31m    schema.search(@tag__ne=\"waffles\")\u001b[0m\n\u001b[0m                  ^\u001b[0m\n\u001b[0;31mSyntaxError\u001b[0m\u001b[0;31m:\u001b[0m invalid syntax\n"
     ]
    }
   ],
   "source": [
    "schema.search(@tag__ne=\"waffles\")"
   ]
  },
  {
   "cell_type": "markdown",
   "metadata": {},
   "source": [
    "You will need to pass the desired attribute and comparison method as strings in this case."
   ]
  },
  {
   "cell_type": "code",
   "execution_count": 14,
   "metadata": {},
   "outputs": [
    {
     "data": {
      "text/plain": [
       "[SchemaInnerDict([('@tag', 'waffles'),\n",
       "                  ('name', 'Belgian Waffles'),\n",
       "                  ('price', '$5.95'),\n",
       "                  ('description',\n",
       "                   'Two of our famous Belgian Waffles with plenty of real maple syrup'),\n",
       "                  ('calories', '650')]),\n",
       " SchemaInnerDict([('@tag', 'waffles'),\n",
       "                  ('name', 'Strawberry Belgian Waffles'),\n",
       "                  ('price', '$7.95'),\n",
       "                  ('description',\n",
       "                   'Light Belgian waffles covered with strawberries and whipped cream'),\n",
       "                  ('calories', '900')]),\n",
       " SchemaInnerDict([('@tag', 'waffles'),\n",
       "                  ('name', 'Berry-Berry Belgian Waffles'),\n",
       "                  ('price', '$8.95'),\n",
       "                  ('description',\n",
       "                   'Belgian waffles covered with assorted fresh berries and whipped cream'),\n",
       "                  ('calories', '900')])]"
      ]
     },
     "execution_count": 14,
     "metadata": {},
     "output_type": "execute_result"
    }
   ],
   "source": [
    "schema.search('@tag', 'waffles') # default comparison is __eq__"
   ]
  },
  {
   "cell_type": "code",
   "execution_count": 15,
   "metadata": {},
   "outputs": [
    {
     "data": {
      "text/plain": [
       "[SchemaInnerDict([('@tag', 'classic'),\n",
       "                  ('name', 'Homestyle Breakfast'),\n",
       "                  ('price', '$6.95'),\n",
       "                  ('description',\n",
       "                   'Two eggs, bacon or sausage, toast, and our ever-popular hash browns'),\n",
       "                  ('calories', '950')]),\n",
       " SchemaInnerDict([('@tag', 'toast'),\n",
       "                  ('name', 'French Toast'),\n",
       "                  ('price', '$4.50'),\n",
       "                  ('description',\n",
       "                   'Thick slices made from our homemade sourdough bread'),\n",
       "                  ('calories', '600')])]"
      ]
     },
     "execution_count": 15,
     "metadata": {},
     "output_type": "execute_result"
    }
   ],
   "source": [
    "schema.search('@tag', 'waffles', comparison='ne')"
   ]
  },
  {
   "cell_type": "code",
   "execution_count": null,
   "metadata": {
    "collapsed": true
   },
   "outputs": [],
   "source": []
  }
 ],
 "metadata": {
  "kernelspec": {
   "display_name": "Python (py3.5)",
   "language": "python",
   "name": "py3.5"
  },
  "language_info": {
   "codemirror_mode": {
    "name": "ipython",
    "version": 3
   },
   "file_extension": ".py",
   "mimetype": "text/x-python",
   "name": "python",
   "nbconvert_exporter": "python",
   "pygments_lexer": "ipython3",
   "version": "3.5.3"
  }
 },
 "nbformat": 4,
 "nbformat_minor": 2
}
